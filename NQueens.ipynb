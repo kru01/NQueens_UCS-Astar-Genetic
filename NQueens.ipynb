{
 "cells": [
  {
   "cell_type": "code",
   "execution_count": 1,
   "metadata": {},
   "outputs": [
    {
     "name": "stdout",
     "output_type": "stream",
     "text": [
      "f:\\Hcmus\\2. SecondYear\\2. SecondSemester\\Intro to AI\\test\\NQueens_UCS-Astar-Genetic\n"
     ]
    },
    {
     "name": "stderr",
     "output_type": "stream",
     "text": [
      "Cloning into 'NQueens_UCS-Astar-Genetic'...\n"
     ]
    }
   ],
   "source": [
    "# Required files: main.py, NQueens.py, searchAlgo.py. Run these if you don't have them.\n",
    "!git clone https://github.com/kru01/NQueens_UCS-Astar-Genetic.git\n",
    "%cd NQueens_UCS-Astar-Genetic"
   ]
  },
  {
   "cell_type": "code",
   "execution_count": 8,
   "metadata": {},
   "outputs": [
    {
     "name": "stdout",
     "output_type": "stream",
     "text": [
      "The program is not actually stuck. Please wait...\n",
      "--8 Queens Genetic Algorithm--\n",
      "Solved in Generation 137155\n",
      "Execution time:    1696469.0000 ms\n",
      "Memory usage:            0.0322 MB\n",
      "Solution: [4, 6, 0, 2, 7, 5, 3, 1]\n",
      "\n",
      "        0   1   2   3   4   5   6   7 \n",
      "     ----------------------------------\n",
      "  0 |   *   *   Q   *   *   *   *   *  |  0\n",
      "  1 |   *   *   *   *   *   *   *   Q  |  1\n",
      "  2 |   *   *   *   Q   *   *   *   *  |  2\n",
      "  3 |   *   *   *   *   *   *   Q   *  |  3\n",
      "  4 |   Q   *   *   *   *   *   *   *  |  4\n",
      "  5 |   *   *   *   *   *   Q   *   *  |  5\n",
      "  6 |   *   Q   *   *   *   *   *   *  |  6\n",
      "  7 |   *   *   *   *   Q   *   *   *  |  7\n",
      "     ----------------------------------\n",
      "        0   1   2   3   4   5   6   7 \n"
     ]
    }
   ],
   "source": [
    "# If the file can't be located, do %pwd and make sure you're in the right directory\n",
    "%run main.py"
   ]
  }
 ],
 "metadata": {
  "kernelspec": {
   "display_name": "Python 3",
   "language": "python",
   "name": "python3"
  },
  "language_info": {
   "codemirror_mode": {
    "name": "ipython",
    "version": 3
   },
   "file_extension": ".py",
   "mimetype": "text/x-python",
   "name": "python",
   "nbconvert_exporter": "python",
   "pygments_lexer": "ipython3",
   "version": "3.10.1"
  },
  "orig_nbformat": 4
 },
 "nbformat": 4,
 "nbformat_minor": 2
}
